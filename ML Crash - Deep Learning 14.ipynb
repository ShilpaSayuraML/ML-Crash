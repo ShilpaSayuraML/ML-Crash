{
 "cells": [
  {
   "cell_type": "markdown",
   "id": "d91762db",
   "metadata": {},
   "source": [
    "https://machinelearningmastery.com/how-to-choose-loss-functions-when-training-deep-learning-neural-networks/"
   ]
  },
  {
   "cell_type": "markdown",
   "id": "23530787",
   "metadata": {},
   "source": [
    "- Deep learning neural networks are trained using the stochastic gradient descent optimization algorithm.\n",
    "\n",
    "- As part of the optimization algorithm, the error for the current state of the model must be estimated repeatedly. \n",
    "- This requires the choice of an error function (loss function)\n",
    "- It can be used to estimate the loss of the model \n",
    "- So, Weights can be updated to reduce the loss on the next evaluation.\n",
    "\n",
    "- Neural network models learn a mapping from inputs to outputs from examples -\n",
    "- the choice of loss function must match the framing of the specific predictive modeling problem, such as classification or regression. \n",
    "- the configuration of the output layer must also be appropriate for the chosen loss function.\n"
   ]
  }
 ],
 "metadata": {
  "kernelspec": {
   "display_name": "Python 3 (ipykernel)",
   "language": "python",
   "name": "python3"
  },
  "language_info": {
   "codemirror_mode": {
    "name": "ipython",
    "version": 3
   },
   "file_extension": ".py",
   "mimetype": "text/x-python",
   "name": "python",
   "nbconvert_exporter": "python",
   "pygments_lexer": "ipython3",
   "version": "3.10.6"
  }
 },
 "nbformat": 4,
 "nbformat_minor": 5
}
