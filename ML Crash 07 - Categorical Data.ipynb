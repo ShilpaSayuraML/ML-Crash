{
 "cells": [
  {
   "cell_type": "markdown",
   "id": "07b45e5e",
   "metadata": {},
   "source": [
    "## ML Crash 07 - Categorical Data"
   ]
  },
  {
   "cell_type": "markdown",
   "id": "4f3dab27",
   "metadata": {},
   "source": [
    "When the data has categories represented by strings.<br>\n",
    "It is difficult to use them to train machine learning models which often only accepts numeric data. \n",
    "<br>\n",
    "<br>We can tranform the data so it can be used in your models.\n",
    "\n",
    "\n"
   ]
  },
  {
   "cell_type": "code",
   "execution_count": 2,
   "id": "fe0663b1",
   "metadata": {},
   "outputs": [
    {
     "name": "stdout",
     "output_type": "stream",
     "text": [
      "           Car       Model  Volume  Weight  CO2\n",
      "0       Toyoty        Aygo    1000     790   99\n",
      "1   Mitsubishi  Space Star    1200    1160   95\n",
      "2        Skoda      Citigo    1000     929   95\n",
      "3         Fiat         500     900     865   90\n",
      "4         Mini      Cooper    1500    1140  105\n",
      "5           VW         Up!    1000     929  105\n",
      "6        Skoda       Fabia    1400    1109   90\n",
      "7     Mercedes     A-Class    1500    1365   92\n",
      "8         Ford      Fiesta    1500    1112   98\n",
      "9         Audi          A1    1600    1150   99\n",
      "10     Hyundai         I20    1100     980   99\n",
      "11      Suzuki       Swift    1300     990  101\n",
      "12        Ford      Fiesta    1000    1112   99\n",
      "13       Honda       Civic    1600    1252   94\n",
      "14      Hundai         I30    1600    1326   97\n",
      "15        Opel       Astra    1600    1330   97\n",
      "16         BMW           1    1600    1365   99\n",
      "17       Mazda           3    2200    1280  104\n",
      "18       Skoda       Rapid    1600    1119  104\n",
      "19        Ford       Focus    2000    1328  105\n",
      "20        Ford      Mondeo    1600    1584   94\n",
      "21        Opel    Insignia    2000    1428   99\n",
      "22    Mercedes     C-Class    2100    1365   99\n",
      "23       Skoda     Octavia    1600    1415   99\n",
      "24       Volvo         S60    2000    1415   99\n",
      "25    Mercedes         CLA    1500    1465  102\n",
      "26        Audi          A4    2000    1490  104\n",
      "27        Audi          A6    2000    1725  114\n",
      "28       Volvo         V70    1600    1523  109\n",
      "29         BMW           5    2000    1705  114\n",
      "30    Mercedes     E-Class    2100    1605  115\n",
      "31       Volvo        XC70    2000    1746  117\n",
      "32        Ford       B-Max    1600    1235  104\n",
      "33         BMW         216    1600    1390  108\n",
      "34        Opel      Zafira    1600    1405  109\n",
      "35    Mercedes         SLK    2500    1395  120\n"
     ]
    }
   ],
   "source": [
    "import pandas as pd\n",
    "cars = pd.read_csv('cars.csv')\n",
    "print(cars)\n"
   ]
  },
  {
   "cell_type": "markdown",
   "id": "ca5193ae",
   "metadata": {},
   "source": [
    "A linear relationship between a categorical variable, <br>Car or Model, and a numeric variable, CO2, cannot be determined.\n",
    "<br>\n",
    "To fix this issue, we must have a numeric representation of the categorical variable. <br><br>\n",
    "For each column, the values will be 1 or 0 where 1 represents the inclusion of the group and 0 represents the exclusion.<br> This transformation is called one hot encoding.\n",
    "\n"
   ]
  },
  {
   "cell_type": "code",
   "execution_count": 12,
   "id": "a0dd615f",
   "metadata": {},
   "outputs": [
    {
     "name": "stdout",
     "output_type": "stream",
     "text": [
      "    Car_Audi  Car_BMW  Car_Fiat  Car_Ford  Car_Honda  Car_Hundai  Car_Hyundai  Car_Mazda  Car_Mercedes  Car_Mini  Car_Mitsubishi  Car_Opel  Car_Skoda  Car_Suzuki  Car_Toyoty  Car_VW  Car_Volvo\n",
      "0          0        0         0         0          0           0            0          0             0         0               0         0          0           0           1       0          0\n",
      "1          0        0         0         0          0           0            0          0             0         0               1         0          0           0           0       0          0\n",
      "2          0        0         0         0          0           0            0          0             0         0               0         0          1           0           0       0          0\n",
      "3          0        0         1         0          0           0            0          0             0         0               0         0          0           0           0       0          0\n",
      "4          0        0         0         0          0           0            0          0             0         1               0         0          0           0           0       0          0\n",
      "5          0        0         0         0          0           0            0          0             0         0               0         0          0           0           0       1          0\n",
      "6          0        0         0         0          0           0            0          0             0         0               0         0          1           0           0       0          0\n",
      "7          0        0         0         0          0           0            0          0             1         0               0         0          0           0           0       0          0\n",
      "8          0        0         0         1          0           0            0          0             0         0               0         0          0           0           0       0          0\n",
      "9          1        0         0         0          0           0            0          0             0         0               0         0          0           0           0       0          0\n",
      "10         0        0         0         0          0           0            1          0             0         0               0         0          0           0           0       0          0\n",
      "11         0        0         0         0          0           0            0          0             0         0               0         0          0           1           0       0          0\n",
      "12         0        0         0         1          0           0            0          0             0         0               0         0          0           0           0       0          0\n",
      "13         0        0         0         0          1           0            0          0             0         0               0         0          0           0           0       0          0\n",
      "14         0        0         0         0          0           1            0          0             0         0               0         0          0           0           0       0          0\n",
      "15         0        0         0         0          0           0            0          0             0         0               0         1          0           0           0       0          0\n",
      "16         0        1         0         0          0           0            0          0             0         0               0         0          0           0           0       0          0\n",
      "17         0        0         0         0          0           0            0          1             0         0               0         0          0           0           0       0          0\n",
      "18         0        0         0         0          0           0            0          0             0         0               0         0          1           0           0       0          0\n",
      "19         0        0         0         1          0           0            0          0             0         0               0         0          0           0           0       0          0\n",
      "20         0        0         0         1          0           0            0          0             0         0               0         0          0           0           0       0          0\n",
      "21         0        0         0         0          0           0            0          0             0         0               0         1          0           0           0       0          0\n",
      "22         0        0         0         0          0           0            0          0             1         0               0         0          0           0           0       0          0\n",
      "23         0        0         0         0          0           0            0          0             0         0               0         0          1           0           0       0          0\n",
      "24         0        0         0         0          0           0            0          0             0         0               0         0          0           0           0       0          1\n",
      "25         0        0         0         0          0           0            0          0             1         0               0         0          0           0           0       0          0\n",
      "26         1        0         0         0          0           0            0          0             0         0               0         0          0           0           0       0          0\n",
      "27         1        0         0         0          0           0            0          0             0         0               0         0          0           0           0       0          0\n",
      "28         0        0         0         0          0           0            0          0             0         0               0         0          0           0           0       0          1\n",
      "29         0        1         0         0          0           0            0          0             0         0               0         0          0           0           0       0          0\n",
      "30         0        0         0         0          0           0            0          0             1         0               0         0          0           0           0       0          0\n",
      "31         0        0         0         0          0           0            0          0             0         0               0         0          0           0           0       0          1\n",
      "32         0        0         0         1          0           0            0          0             0         0               0         0          0           0           0       0          0\n",
      "33         0        1         0         0          0           0            0          0             0         0               0         0          0           0           0       0          0\n",
      "34         0        0         0         0          0           0            0          0             0         0               0         1          0           0           0       0          0\n",
      "35         0        0         0         0          0           0            0          0             1         0               0         0          0           0           0       0          0\n"
     ]
    }
   ],
   "source": [
    "import pandas as pd\n",
    "\n",
    "cars = pd.read_csv('cars.csv')\n",
    "ohe_cars = pd.get_dummies(cars[['Car']])\n",
    "print(ohe_cars.to_string())"
   ]
  },
  {
   "cell_type": "markdown",
   "id": "bb7d5232",
   "metadata": {},
   "source": [
    "A column was created for every car brand in the Car column.\n"
   ]
  },
  {
   "cell_type": "markdown",
   "id": "46e92730",
   "metadata": {},
   "source": [
    "We can use this information alongside<br> volume and weight to predict CO2\n",
    "<br>\n",
    "We can use the concat() function to combine thisnformation.\n",
    "<br>\n",
    "\n"
   ]
  },
  {
   "cell_type": "code",
   "execution_count": 14,
   "id": "80ff97a5",
   "metadata": {},
   "outputs": [
    {
     "data": {
      "text/html": [
       "<style>#sk-container-id-1 {color: black;background-color: white;}#sk-container-id-1 pre{padding: 0;}#sk-container-id-1 div.sk-toggleable {background-color: white;}#sk-container-id-1 label.sk-toggleable__label {cursor: pointer;display: block;width: 100%;margin-bottom: 0;padding: 0.3em;box-sizing: border-box;text-align: center;}#sk-container-id-1 label.sk-toggleable__label-arrow:before {content: \"▸\";float: left;margin-right: 0.25em;color: #696969;}#sk-container-id-1 label.sk-toggleable__label-arrow:hover:before {color: black;}#sk-container-id-1 div.sk-estimator:hover label.sk-toggleable__label-arrow:before {color: black;}#sk-container-id-1 div.sk-toggleable__content {max-height: 0;max-width: 0;overflow: hidden;text-align: left;background-color: #f0f8ff;}#sk-container-id-1 div.sk-toggleable__content pre {margin: 0.2em;color: black;border-radius: 0.25em;background-color: #f0f8ff;}#sk-container-id-1 input.sk-toggleable__control:checked~div.sk-toggleable__content {max-height: 200px;max-width: 100%;overflow: auto;}#sk-container-id-1 input.sk-toggleable__control:checked~label.sk-toggleable__label-arrow:before {content: \"▾\";}#sk-container-id-1 div.sk-estimator input.sk-toggleable__control:checked~label.sk-toggleable__label {background-color: #d4ebff;}#sk-container-id-1 div.sk-label input.sk-toggleable__control:checked~label.sk-toggleable__label {background-color: #d4ebff;}#sk-container-id-1 input.sk-hidden--visually {border: 0;clip: rect(1px 1px 1px 1px);clip: rect(1px, 1px, 1px, 1px);height: 1px;margin: -1px;overflow: hidden;padding: 0;position: absolute;width: 1px;}#sk-container-id-1 div.sk-estimator {font-family: monospace;background-color: #f0f8ff;border: 1px dotted black;border-radius: 0.25em;box-sizing: border-box;margin-bottom: 0.5em;}#sk-container-id-1 div.sk-estimator:hover {background-color: #d4ebff;}#sk-container-id-1 div.sk-parallel-item::after {content: \"\";width: 100%;border-bottom: 1px solid gray;flex-grow: 1;}#sk-container-id-1 div.sk-label:hover label.sk-toggleable__label {background-color: #d4ebff;}#sk-container-id-1 div.sk-serial::before {content: \"\";position: absolute;border-left: 1px solid gray;box-sizing: border-box;top: 0;bottom: 0;left: 50%;z-index: 0;}#sk-container-id-1 div.sk-serial {display: flex;flex-direction: column;align-items: center;background-color: white;padding-right: 0.2em;padding-left: 0.2em;position: relative;}#sk-container-id-1 div.sk-item {position: relative;z-index: 1;}#sk-container-id-1 div.sk-parallel {display: flex;align-items: stretch;justify-content: center;background-color: white;position: relative;}#sk-container-id-1 div.sk-item::before, #sk-container-id-1 div.sk-parallel-item::before {content: \"\";position: absolute;border-left: 1px solid gray;box-sizing: border-box;top: 0;bottom: 0;left: 50%;z-index: -1;}#sk-container-id-1 div.sk-parallel-item {display: flex;flex-direction: column;z-index: 1;position: relative;background-color: white;}#sk-container-id-1 div.sk-parallel-item:first-child::after {align-self: flex-end;width: 50%;}#sk-container-id-1 div.sk-parallel-item:last-child::after {align-self: flex-start;width: 50%;}#sk-container-id-1 div.sk-parallel-item:only-child::after {width: 0;}#sk-container-id-1 div.sk-dashed-wrapped {border: 1px dashed gray;margin: 0 0.4em 0.5em 0.4em;box-sizing: border-box;padding-bottom: 0.4em;background-color: white;}#sk-container-id-1 div.sk-label label {font-family: monospace;font-weight: bold;display: inline-block;line-height: 1.2em;}#sk-container-id-1 div.sk-label-container {text-align: center;}#sk-container-id-1 div.sk-container {/* jupyter's `normalize.less` sets `[hidden] { display: none; }` but bootstrap.min.css set `[hidden] { display: none !important; }` so we also need the `!important` here to be able to override the default hidden behavior on the sphinx rendered scikit-learn.org. See: https://github.com/scikit-learn/scikit-learn/issues/21755 */display: inline-block !important;position: relative;}#sk-container-id-1 div.sk-text-repr-fallback {display: none;}</style><div id=\"sk-container-id-1\" class=\"sk-top-container\"><div class=\"sk-text-repr-fallback\"><pre>LinearRegression()</pre><b>In a Jupyter environment, please rerun this cell to show the HTML representation or trust the notebook. <br />On GitHub, the HTML representation is unable to render, please try loading this page with nbviewer.org.</b></div><div class=\"sk-container\" hidden><div class=\"sk-item\"><div class=\"sk-estimator sk-toggleable\"><input class=\"sk-toggleable__control sk-hidden--visually\" id=\"sk-estimator-id-1\" type=\"checkbox\" checked><label for=\"sk-estimator-id-1\" class=\"sk-toggleable__label sk-toggleable__label-arrow\">LinearRegression</label><div class=\"sk-toggleable__content\"><pre>LinearRegression()</pre></div></div></div></div></div>"
      ],
      "text/plain": [
       "LinearRegression()"
      ]
     },
     "execution_count": 14,
     "metadata": {},
     "output_type": "execute_result"
    }
   ],
   "source": [
    "import pandas\n",
    "\n",
    "#select the independent variables (X) and add dummy variables \n",
    "#Also store the dependent variable in y.\n",
    "\n",
    "X = pandas.concat([cars[['Volume', 'Weight']], ohe_cars], axis=1)\n",
    "y = cars['CO2']\n",
    "\n",
    "from sklearn import linear_model\n",
    "regr = linear_model.LinearRegression()\n",
    "regr.fit(X,y)\n"
   ]
  },
  {
   "cell_type": "code",
   "execution_count": 15,
   "id": "27184e35",
   "metadata": {},
   "outputs": [
    {
     "name": "stderr",
     "output_type": "stream",
     "text": [
      "D:\\Python\\lib\\site-packages\\sklearn\\base.py:450: UserWarning: X does not have valid feature names, but LinearRegression was fitted with feature names\n",
      "  warnings.warn(\n"
     ]
    }
   ],
   "source": [
    "\n",
    "#predict the CO2 emissions \n",
    "# based on the car's weight, volume, and manufacturer.\n",
    "\n",
    "##Volvo > weight=2300kg, volume =1300cm3:\n",
    "\n",
    "predictedCO2 = regr.predict([[2300, 1300,0,0,0,0,0,0,0,0,0,0,0,0,0,0,0,1,0]])"
   ]
  },
  {
   "cell_type": "code",
   "execution_count": 16,
   "id": "ecc3549b",
   "metadata": {},
   "outputs": [
    {
     "name": "stdout",
     "output_type": "stream",
     "text": [
      "[122.45153299]\n"
     ]
    },
    {
     "name": "stderr",
     "output_type": "stream",
     "text": [
      "D:\\Python\\lib\\site-packages\\sklearn\\base.py:450: UserWarning: X does not have valid feature names, but LinearRegression was fitted with feature names\n",
      "  warnings.warn(\n"
     ]
    }
   ],
   "source": [
    "\n",
    "#predict the CO2 emissions \n",
    "# based on the car's weight, volume, and manufacturer.\n",
    "\n",
    "##Volvo > weight=2300kg, volume =1300cm3:\n",
    "\n",
    "predictedCO2 = regr.predict([[2300, 1300,0,0,0,0,0,0,0,0,0,0,0,0,0,0,0,1,0]])\n",
    "print(predictedCO2)"
   ]
  },
  {
   "cell_type": "code",
   "execution_count": 18,
   "id": "4416fda7",
   "metadata": {},
   "outputs": [
    {
     "name": "stdout",
     "output_type": "stream",
     "text": [
      "   color\n",
      "0   blue\n",
      "1    red\n",
      "2  green\n"
     ]
    }
   ],
   "source": [
    "#Dummifying\n",
    "import pandas as pd\n",
    "\n",
    "colors = pd.DataFrame({'color': ['blue', 'red', 'green']})\n",
    "\n",
    "print(colors)"
   ]
  },
  {
   "cell_type": "code",
   "execution_count": 23,
   "id": "df4abfce",
   "metadata": {},
   "outputs": [
    {
     "name": "stdout",
     "output_type": "stream",
     "text": [
      "   color_green  color_red\n",
      "0            0          0\n",
      "1            0          1\n",
      "2            1          0\n"
     ]
    }
   ],
   "source": [
    "import pandas as pd\n",
    "\n",
    "colors = pd.DataFrame({'color': ['blue', 'red', 'green']})\n",
    "dummies = pd.get_dummies(colors, drop_first=True)\n",
    "\n",
    "print(dummies)"
   ]
  },
  {
   "cell_type": "code",
   "execution_count": 24,
   "id": "a1a05042",
   "metadata": {},
   "outputs": [
    {
     "name": "stdout",
     "output_type": "stream",
     "text": [
      "   color_green  color_red  color\n",
      "0            0          0   blue\n",
      "1            0          1    red\n",
      "2            1          0  green\n"
     ]
    }
   ],
   "source": [
    "import pandas as pd\n",
    "\n",
    "colors = pd.DataFrame({'color': ['blue', 'red', 'green']})\n",
    "dummies = pd.get_dummies(colors, drop_first=True)\n",
    "dummies['color'] = colors['color']\n",
    "\n",
    "print(dummies)"
   ]
  },
  {
   "cell_type": "code",
   "execution_count": null,
   "id": "68b41401",
   "metadata": {},
   "outputs": [],
   "source": []
  }
 ],
 "metadata": {
  "kernelspec": {
   "display_name": "Python 3 (ipykernel)",
   "language": "python",
   "name": "python3"
  },
  "language_info": {
   "codemirror_mode": {
    "name": "ipython",
    "version": 3
   },
   "file_extension": ".py",
   "mimetype": "text/x-python",
   "name": "python",
   "nbconvert_exporter": "python",
   "pygments_lexer": "ipython3",
   "version": "3.10.6"
  }
 },
 "nbformat": 4,
 "nbformat_minor": 5
}
